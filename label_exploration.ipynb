{
 "cells": [
  {
   "cell_type": "code",
   "execution_count": 1,
   "id": "bf15d39a",
   "metadata": {},
   "outputs": [],
   "source": [
    "# check the distribution of the target variable\n",
    "def check_label_distribution(dictionary):\n",
    "    for currency in dictionary:\n",
    "        print(currency)\n",
    "        print(\"excess over mean\")\n",
    "        print(dictionary[currency][\"excess_over_mean\"].value_counts())\n",
    "        print(\"excess over median\")\n",
    "        print(dictionary[currency][\"excess_over_median\"].value_counts())\n",
    "        print(\"triple Barrier\")\n",
    "        print(dictionary[currency][\"tbm_label\"].value_counts())\n",
    "        print(\"fixed time horizon\")\n",
    "        print(dictionary[currency][\"fth_label\"].value_counts())\n",
    "        print(\"-\"*30)"
   ]
  },
  {
   "cell_type": "code",
   "execution_count": null,
   "id": "2b7289bc",
   "metadata": {},
   "outputs": [],
   "source": []
  }
 ],
 "metadata": {
  "kernelspec": {
   "display_name": "Python 3.8.8 64-bit ('base': conda)",
   "language": "python",
   "name": "python388jvsc74a57bd04bf90262335278849346a8413120045905705f4a3dcd085e5fd666f68913c85e"
  },
  "language_info": {
   "codemirror_mode": {
    "name": "ipython",
    "version": 3
   },
   "file_extension": ".py",
   "mimetype": "text/x-python",
   "name": "python",
   "nbconvert_exporter": "python",
   "pygments_lexer": "ipython3",
   "version": "3.8.8"
  }
 },
 "nbformat": 4,
 "nbformat_minor": 5
}
