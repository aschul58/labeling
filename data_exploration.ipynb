{
 "cells": [
  {
   "cell_type": "code",
   "execution_count": 1,
   "id": "82479664",
   "metadata": {},
   "outputs": [],
   "source": [
    "def describe_dfs(dictionary):\n",
    "    \"\"\"\n",
    "    This function should give an broad overview over the structure of dataframes in order to compare\n",
    "    \n",
    "    Parameters:\n",
    "    dictionary (dict): dictionary containing dataframes\n",
    "    \n",
    "    Returns:\n",
    "    no return value, this is just a print function\n",
    "    \"\"\"\n",
    "    \n",
    "    #loop over dataframes in dictionary an print desciption\n",
    "    for name in dictionary:\n",
    "        print(name)\n",
    "        print(dictionary[name].info())\n",
    "        print(dictionary[name].describe())\n",
    "        print(\"-\"*100)\n",
    "        print(\"\")"
   ]
  },
  {
   "cell_type": "code",
   "execution_count": 2,
   "id": "63643670",
   "metadata": {},
   "outputs": [],
   "source": [
    "def visualize_price_development(currency_df):\n",
    "    \"\"\"\n",
    "    This function visualizes the price of a crypto currency over time\n",
    "    \n",
    "    Parameters:\n",
    "    currency_df (dataframe): dataframe of the crypto currency\n",
    "    \n",
    "    Returns:\n",
    "    no return value, this is a print function\n",
    "    \"\"\"\n",
    "    \n",
    "    #generate plot by defining size and lables \n",
    "    title = \"\"\n",
    "    x_label = \"Time\"\n",
    "    y_label = \"Price\"\n",
    "    plt.figure(figsize = (150,50), dpi=10)\n",
    "    plt.plot(currency_df[\"Date\"], currency_df[\"Price\"], color = 'tab:red')\n",
    "    plt.gca().set(title = title, xlabel = x_label, ylabel = y_label)\n",
    "    plt.show()"
   ]
  },
  {
   "cell_type": "code",
   "execution_count": 3,
   "id": "8fc58ae4",
   "metadata": {},
   "outputs": [],
   "source": [
    "def adf_test(timeseries_df):\n",
    "    \"\"\"\n",
    "    This function performs the Augmented Dickey-Fuller Test for Stationarity on a given time series in order to test stationarity\n",
    "    \n",
    "    Parameters:\n",
    "    timeseries_df (dataframe): timeseries that should be tested\n",
    "    \n",
    "    Returns:\n",
    "    no return value, this is a print function\n",
    "    \"\"\"\n",
    "    \n",
    "    adftest = adfuller(timeseries_df[\"Price\"], autolag = 'AIC', regression = 'ct')\n",
    "    print(\"ADF Test Results\")\n",
    "    print(\"Null Hypothesis: The series has a unit root (non-stationary)\")\n",
    "    print(\"ADF-Statistic:\", adftest[0])\n",
    "    print(\"P-Value:\", adftest[1])\n",
    "    print(\"Number of lags:\", adftest[2])\n",
    "    print(\"Number of observations:\", adftest[3])\n",
    "    print(\"Critical Values:\", adftest[4])\n",
    "    print(\"Note: If P-Value is smaller than 0.05, we reject the null hypothesis and the series is stationary\")"
   ]
  },
  {
   "cell_type": "code",
   "execution_count": 4,
   "id": "6c457bcd",
   "metadata": {},
   "outputs": [],
   "source": [
    "def determine_timeframe(df):\n",
    "    \"\"\"\n",
    "    This function prints the lowest and highest date in a dataframe\n",
    "    \n",
    "    Parameters:\n",
    "    df (dataframe): timeseries that should be analyzed\n",
    "    \n",
    "    Returns:\n",
    "    no return value, this is a print function\n",
    "    \"\"\"\n",
    "    \n",
    "    #print min and max values\n",
    "    print(\"Start date: \" + df[\"Date\"].min())\n",
    "    print(\"End date: \" + df[\"Date\"].max())"
   ]
  },
  {
   "cell_type": "code",
   "execution_count": 5,
   "id": "78d8243b",
   "metadata": {},
   "outputs": [],
   "source": [
    "def determine_currency_timeframe(dictionary):\n",
    "    \"\"\"\n",
    "    This function prints the start and end of measuring for each crypto currency \n",
    "    \n",
    "    Parameters:\n",
    "    dictionary (dictionary): all crypto currencies in a given directory\n",
    "    \n",
    "    Returns:\n",
    "    no return value, this is a print function\n",
    "    \"\"\"\n",
    "    \n",
    "    #loop over currencies\n",
    "    for currency in dictionary:\n",
    "        print(currency)\n",
    "        determine_timeframe(dictionary[currency])\n",
    "        print(\"-\"*30)"
   ]
  },
  {
   "cell_type": "code",
   "execution_count": null,
   "id": "f05bfa24",
   "metadata": {},
   "outputs": [],
   "source": []
  }
 ],
 "metadata": {
  "kernelspec": {
   "display_name": "Python 3.8.8 64-bit ('base': conda)",
   "language": "python",
   "name": "python388jvsc74a57bd04bf90262335278849346a8413120045905705f4a3dcd085e5fd666f68913c85e"
  },
  "language_info": {
   "codemirror_mode": {
    "name": "ipython",
    "version": 3
   },
   "file_extension": ".py",
   "mimetype": "text/x-python",
   "name": "python",
   "nbconvert_exporter": "python",
   "pygments_lexer": "ipython3",
   "version": "3.8.8"
  }
 },
 "nbformat": 4,
 "nbformat_minor": 5
}
