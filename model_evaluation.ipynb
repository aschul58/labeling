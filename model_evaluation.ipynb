{
 "cells": [
  {
   "cell_type": "code",
   "execution_count": 1,
   "id": "1023e5ee",
   "metadata": {},
   "outputs": [],
   "source": [
    "from sklearn.metrics import accuracy_score"
   ]
  },
  {
   "cell_type": "code",
   "execution_count": 2,
   "id": "4dc264e8",
   "metadata": {},
   "outputs": [],
   "source": [
    "def print_accuracy(dictionary):\n",
    "    print('Training set score: {:.4f}'.format(dictionary[\"model\"].score(dictionary[\"X_train\"], dictionary[\"y_train\"])))\n",
    "    print('Test set score: {:.4f}'.format(dictionary[\"model\"].score(dictionary[\"X_test\"], dictionary[\"y_test\"])))"
   ]
  },
  {
   "cell_type": "code",
   "execution_count": 3,
   "id": "830f01d2",
   "metadata": {},
   "outputs": [],
   "source": [
    "def evaluate_accuracy(dictionary):\n",
    "    for currency in dictionary:\n",
    "        print(currency)\n",
    "        for labeling_method in dictionary[currency]:\n",
    "            print(labeling_method)\n",
    "            print_accuracy(dictionary[currency][labeling_method])\n",
    "        print(\"-\"*30)"
   ]
  }
 ],
 "metadata": {
  "kernelspec": {
   "display_name": "Python 3.8.8 64-bit ('base': conda)",
   "language": "python",
   "name": "python388jvsc74a57bd04bf90262335278849346a8413120045905705f4a3dcd085e5fd666f68913c85e"
  },
  "language_info": {
   "codemirror_mode": {
    "name": "ipython",
    "version": 3
   },
   "file_extension": ".py",
   "mimetype": "text/x-python",
   "name": "python",
   "nbconvert_exporter": "python",
   "pygments_lexer": "ipython3",
   "version": "3.8.8"
  }
 },
 "nbformat": 4,
 "nbformat_minor": 5
}
