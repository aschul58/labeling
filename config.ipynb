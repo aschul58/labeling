{
 "cells": [
  {
   "cell_type": "code",
   "execution_count": 7,
   "id": "3b3f4c50",
   "metadata": {},
   "outputs": [],
   "source": [
    "import pandas as pd"
   ]
  },
  {
   "cell_type": "code",
   "execution_count": 10,
   "id": "d3557507",
   "metadata": {},
   "outputs": [],
   "source": [
    "#Parameters\n",
    "window_in_days = 10\n",
    "delta = pd.Timedelta(days = window_in_days)\n",
    "threshold = 0.001\n",
    "volatility_delta = pd.Timedelta(days = 1)"
   ]
  },
  {
   "cell_type": "code",
   "execution_count": 9,
   "id": "a1a19568",
   "metadata": {},
   "outputs": [],
   "source": [
    "#Paths\n",
    "directory_daily = \"raw_data/daily\"\n",
    "directory_weekly = \"raw_data/weekly\""
   ]
  },
  {
   "cell_type": "code",
   "execution_count": null,
   "id": "e754e000",
   "metadata": {},
   "outputs": [],
   "source": []
  }
 ],
 "metadata": {
  "kernelspec": {
   "display_name": "Python 3.8.8 64-bit ('base': conda)",
   "language": "python",
   "name": "python388jvsc74a57bd04bf90262335278849346a8413120045905705f4a3dcd085e5fd666f68913c85e"
  },
  "language_info": {
   "codemirror_mode": {
    "name": "ipython",
    "version": 3
   },
   "file_extension": ".py",
   "mimetype": "text/x-python",
   "name": "python",
   "nbconvert_exporter": "python",
   "pygments_lexer": "ipython3",
   "version": "3.8.8"
  }
 },
 "nbformat": 4,
 "nbformat_minor": 5
}
