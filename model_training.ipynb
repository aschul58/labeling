{
 "cells": [
  {
   "cell_type": "code",
   "execution_count": 1,
   "id": "893ecfe3",
   "metadata": {},
   "outputs": [],
   "source": [
    "import lightgbm as lgbm\n",
    "from sklearn.model_selection import TimeSeriesSplit"
   ]
  },
  {
   "cell_type": "code",
   "execution_count": 2,
   "id": "c193267c",
   "metadata": {},
   "outputs": [],
   "source": [
    "tss = TimeSeriesSplit(n_splits = 3)"
   ]
  },
  {
   "cell_type": "code",
   "execution_count": 3,
   "id": "2b97d66d",
   "metadata": {},
   "outputs": [],
   "source": [
    "def train_model(df, label_name):\n",
    "    \n",
    "    model_dict = {}\n",
    "    \n",
    "    train_feature_list = [\n",
    "        'Price',\n",
    "        'Daily Active Addresses',\n",
    "        'Price Volatility 1w',\n",
    "        'RSI 1d',\n",
    "        'Exchange Flow Balance',\n",
    "        'Percent of Stablecoin Total Supply held by Whales with more than 5 million USD',\n",
    "        'Whale Transaction Count (>1m USD)',\n",
    "        'Age Consumed',\n",
    "        'Circulation (90d)',\n",
    "        'The Ratio of Daily On-Chain Transaction Volume in Profit to Loss',\n",
    "        'Mean Coin Age',\n",
    "        'Mean Dollar Invested Age',\n",
    "        'MVRV Long/Short Difference',\n",
    "        'MVRV Ratio (Z score)',\n",
    "        'Percent of Total Supply in Profit'\n",
    "    ]\n",
    "    \n",
    "    # define features and target variable\n",
    "    y = df[label_name]\n",
    "    y = y.astype('int')\n",
    "    #X = df.loc[:, df.columns == train_feature_list]\n",
    "    X = df[train_feature_list]\n",
    "    \n",
    "    # drop horizon timestamp and return before training\n",
    "    #X = X.drop('horizon', axis = 1)\n",
    "    #X = X.drop('relative_return', axis = 1)\n",
    "    \n",
    "    for train_index, test_index in tss.split(X):\n",
    "        X_train, X_test = X.iloc[train_index, :], X.iloc[test_index,:]\n",
    "        y_train, y_test = y.iloc[train_index], y.iloc[test_index]\n",
    "        \n",
    "    clf = lgbm.LGBMClassifier()\n",
    "    clf.fit(X_train, y_train)\n",
    "    y_pred = clf.predict(X_test)\n",
    "    \n",
    "    model_dict[\"X_train\"] = X_train\n",
    "    model_dict[\"X_test\"] = X_test\n",
    "    model_dict[\"y_train\"] = y_train\n",
    "    model_dict[\"y_test\"] = y_test\n",
    "    model_dict[\"model\"] = clf\n",
    "    model_dict[\"y_pred\"] = y_pred\n",
    "    \n",
    "    return model_dict"
   ]
  },
  {
   "cell_type": "code",
   "execution_count": 4,
   "id": "171f9076",
   "metadata": {},
   "outputs": [],
   "source": [
    "def apply_training(dictionary):\n",
    "    \n",
    "    # data structure as following:\n",
    "        # first layer of dictionary containing crypto currencies as keys\n",
    "            # assigned to the currencies there is another dictionary as value containing all the possible labeling methods\n",
    "                # inside the second layer of dictionary is the actual training and test data as well as results and classifier\n",
    "    \n",
    "    currencies = {}\n",
    "    \n",
    "    for currency in dictionary:\n",
    "        \n",
    "        labeling_methods = {}\n",
    "        \n",
    "        labeling_methods[\"excess_over_mean\"] = train_model(dictionary[currency], \"excess_over_mean\")\n",
    "        labeling_methods[\"excess_over_median\"] = train_model(dictionary[currency], \"excess_over_median\")\n",
    "        labeling_methods[\"fixed_time_horizon\"] = train_model(dictionary[currency], \"fth_label\")\n",
    "        labeling_methods[\"triple_barrier\"] = train_model(dictionary[currency], \"tbm_label\")\n",
    "        \n",
    "        currencies[currency] = labeling_methods\n",
    "        \n",
    "    return currencies"
   ]
  }
 ],
 "metadata": {
  "kernelspec": {
   "display_name": "Python 3.8.8 64-bit ('base': conda)",
   "language": "python",
   "name": "python388jvsc74a57bd04bf90262335278849346a8413120045905705f4a3dcd085e5fd666f68913c85e"
  },
  "language_info": {
   "codemirror_mode": {
    "name": "ipython",
    "version": 3
   },
   "file_extension": ".py",
   "mimetype": "text/x-python",
   "name": "python",
   "nbconvert_exporter": "python",
   "pygments_lexer": "ipython3",
   "version": "3.8.8"
  }
 },
 "nbformat": 4,
 "nbformat_minor": 5
}
